{
 "cells": [
  {
   "cell_type": "code",
   "execution_count": 1,
   "metadata": {},
   "outputs": [],
   "source": [
    "import csv\n",
    "from datetime import datetime\n",
    "from functions import *\n",
    "import json\n",
    "import multiprocessing\n",
    "import pandas as pd\n",
    "import sys\n",
    "import time\n",
    "import tweepy\n",
    "from tweepy.auth import OAuthHandler\n",
    "\n",
    "configuration = json.load(open(\"configuration.json\"))"
   ]
  },
  {
   "cell_type": "markdown",
   "metadata": {},
   "source": [
    "# Pull a user's friends from the Twitter API"
   ]
  },
  {
   "cell_type": "code",
   "execution_count": 19,
   "metadata": {},
   "outputs": [],
   "source": [
    "def pull_friends(api, user_ids):\n",
    "    friendships = []\n",
    "    error_accounts = []\n",
    "    \n",
    "    for user_id in user_ids:\n",
    "        friend_ids = []\n",
    "        collected_at = datetime.now()\n",
    "\n",
    "        try:\n",
    "            for page in tweepy.Cursor(api.friends_ids, id=user_id).pages():\n",
    "                friend_ids.extend(page)\n",
    "            \n",
    "            friendships.extend([(user_id, friend_id, collected_at) for friend_id in friend_ids])\n",
    "\n",
    "        except tweepy.RateLimitError:\n",
    "            time.sleep(15 * 60)\n",
    "            user_friendships, error_ids = pull_friends(api, [user_id])\n",
    "            friendships.extend(user_friendships)\n",
    "            error_accounts.extend(error_ids)\n",
    "        \n",
    "        except tweepy.TweepError as ex:\n",
    "            error_accounts.append((user_id, ex.response.status_code, ex.response.text))\n",
    "    \n",
    "    return (friendships, error_accounts)\n"
   ]
  },
  {
   "cell_type": "markdown",
   "metadata": {},
   "source": [
    "# Write out the friendships\n",
    "Currently written for Postgres"
   ]
  },
  {
   "cell_type": "code",
   "execution_count": null,
   "metadata": {},
   "outputs": [],
   "source": [
    "def write_friendships_to_database(configuration, friendships, start_interval, end_interval):\n",
    "    config_file = configuration[\"db_config_file\"]\n",
    "    for line in open(db_config_file).readlines():\n",
    "        key, value = line.strip().split(\"=\")\n",
    "        config[key] = value\n",
    "    \n",
    "    table_name = config_file[\"table_prefix\"] + \"_friendships\"\n",
    "    \n",
    "    ## Create the table if it doesn't exist\n",
    "    CREATE_STATEMENT = \"\"\"CREATE TABLE IF NOT EXISTS {table_name} (\n",
    "                          sample_id BIGINT,\n",
    "                          user_id BIGINT,\n",
    "                          friend_id BIGINT,\n",
    "                          collected_at TIMESTAMP,\n",
    "                          start_interval TIMESTAMP,\n",
    "                          end_interval TIMESTAMP);\"\"\"\n",
    "    \n",
    "    cursor.execute(CREATE_STATEMENT)\n",
    "    \n",
    "    ## Insert the rows\n",
    "    ## Connect to the database and get a cursor object\n",
    "    database = psycopg2.connect(**config)\n",
    "    cursor = database.cursor()\n",
    "\n",
    "    INSERT_STATEMENT = \"\"\"INSERT INTO {table_name} (sample_id, user_id, friend_id, collected_at, start_interval, end_interval) \n",
    "                          VALUES (%s, %s, %s, %s, %s, %s)\"\"\".format(table_name=table_name)\n",
    "    \n",
    "    rows = [(f[0], f[0], f[1], f[2], start_interval, end_interval) for f in friendships]\n",
    "    \n",
    "    ext.execute_batch(cursor, INSERT_STATEMENT, rows)\n",
    "    \n",
    "    database.commit()"
   ]
  },
  {
   "cell_type": "code",
   "execution_count": null,
   "metadata": {},
   "outputs": [],
   "source": [
    "def write_errors_to_database(configuration, errors, start_interval, end_interval):\n",
    "    config_file = configuration[\"db_config_file\"]\n",
    "    for line in open(db_config_file).readlines():\n",
    "        key, value = line.strip().split(\"=\")\n",
    "        config[key] = value\n",
    "    \n",
    "    table_name = config_file[\"table_prefix\"] + \"_frienship_errors\"\n",
    "    \n",
    "    ## Connect to the database and get a cursor object\n",
    "    database = psycopg2.connect(**config)\n",
    "    cursor = database.cursor()\n",
    "\n",
    "    ## Create the table if it doesn't exist\n",
    "    CREATE_STATEMENT = \"\"\"CREATE TABLE IF NOT EXISTS {table_name} (\n",
    "                          sample_id BIGINT,\n",
    "                          api_error_code INT,\n",
    "                          api_error_text VARCHAR(200),\n",
    "                          start_interval TIMESTAMP,\n",
    "                          end_interval TIMESTAMP);\"\"\"\n",
    "    \n",
    "    cursor.execute(CREATE_STATEMENT)\n",
    "    \n",
    "    ## Insert the rows\n",
    "    INSERT_STATEMENT = \"\"\"INSERT INTO {table_name} (sample_id, api_error_code, api_error_text, start_interval, end_interval) \n",
    "                          VALUES (%s, %s, %s, %s, %s)\"\"\".format(table_name=table_name)\n",
    "    \n",
    "    rows = [(e[0], e[1], e[2], start_interval, end_interval) for e in errors]\n",
    "    \n",
    "    ext.execute_batch(cursor, INSERT_STATEMENT, rows)\n",
    "    \n",
    "    database.commit() "
   ]
  }
 ],
 "metadata": {
  "kernelspec": {
   "display_name": "Python 3",
   "language": "python",
   "name": "python3"
  },
  "language_info": {
   "codemirror_mode": {
    "name": "ipython",
    "version": 3
   },
   "file_extension": ".py",
   "mimetype": "text/x-python",
   "name": "python",
   "nbconvert_exporter": "python",
   "pygments_lexer": "ipython3",
   "version": "3.6.4"
  }
 },
 "nbformat": 4,
 "nbformat_minor": 2
}
