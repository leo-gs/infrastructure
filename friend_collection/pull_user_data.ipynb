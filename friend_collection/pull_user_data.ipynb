{
 "cells": [
  {
   "cell_type": "code",
   "execution_count": 6,
   "metadata": {},
   "outputs": [],
   "source": [
    "import csv\n",
    "from datetime import datetime\n",
    "from functions import *\n",
    "import json\n",
    "import multiprocessing\n",
    "import pandas as pd\n",
    "import psycopg2\n",
    "from psycopg2 import extras as ext\n",
    "import sys\n",
    "import time\n",
    "import tweepy\n",
    "from tweepy.auth import OAuthHandler\n",
    "\n",
    "configuration = json.load(open(\"configuration.json\"))"
   ]
  },
  {
   "cell_type": "markdown",
   "metadata": {},
   "source": [
    "# Pull a user's data from the Twitter API"
   ]
  },
  {
   "cell_type": "code",
   "execution_count": 5,
   "metadata": {},
   "outputs": [],
   "source": [
    "def pull_user_data(api, user_ids):\n",
    "    if len(user_ids) > 100:\n",
    "        raise ValueError(\"Maximum 100 user_ids per request.\")\n",
    "    \n",
    "    try:\n",
    "        collected_at = datetime.now()\n",
    "        users_data = api.lookup_users(user_ids=user_ids)\n",
    "        users_data = [(user_data._json, collected_at) for user_data in users_data]\n",
    "        \n",
    "    except tweepy.RateLimitError:\n",
    "        time.sleep(15 * 60)\n",
    "        users_data = pull_user_data(api, user_ids)\n",
    "    \n",
    "    return users_data\n"
   ]
  },
  {
   "cell_type": "markdown",
   "metadata": {},
   "source": [
    "# Write the user data\n",
    "Currently written for Postgres"
   ]
  },
  {
   "cell_type": "code",
   "execution_count": 7,
   "metadata": {},
   "outputs": [],
   "source": [
    "def write_users_to_database(configuration, users_data, start_interval, end_interval):\n",
    "    config_file = configuration[\"db_config_file\"]\n",
    "    for line in open(db_config_file).readlines():\n",
    "        key, value = line.strip().split(\"=\")\n",
    "        config[key] = value\n",
    "    \n",
    "    table_name = config_file[\"table_prefix\"] + \"_user_data\"\n",
    "    \n",
    "    ## Connect to the database and get a cursor object\n",
    "    database = psycopg2.connect(**config)\n",
    "    cursor = database.cursor()\n",
    "\n",
    "    ## Create the table if it doesn't exist\n",
    "    CREATE_STATEMENT = \"\"\"CREATE TABLE IF NOT EXISTS {table_name} (\n",
    "                          user_id BIGINT,\n",
    "                          collected_at TIMESTAMP,\n",
    "                          user_data JSON,\n",
    "                          start_interval TIMESTAMP,\n",
    "                          end_interval TIMESTAMP);\"\"\"\n",
    "    \n",
    "    cursor.execute(CREATE_STATEMENT)\n",
    "    \n",
    "    ## Insert the rows\n",
    "    INSERT_STATEMENT = \"\"\"INSERT INTO {table_name} (user_id, collected_at, user_data, start_interval, end_interval) \n",
    "                          VALUES (%s, %s, %s, %s, %s)\"\"\".format(table_name=table_name)\n",
    "    \n",
    "    rows = [(u[0][\"id\"], u[1], u[0], start_interval, end_interval) for u in users_data]\n",
    "    \n",
    "    ext.execute_batch(cursor, INSERT_STATEMENT, rows)\n",
    "    \n",
    "    database.commit()"
   ]
  }
 ],
 "metadata": {
  "kernelspec": {
   "display_name": "Python 3",
   "language": "python",
   "name": "python3"
  },
  "language_info": {
   "codemirror_mode": {
    "name": "ipython",
    "version": 3
   },
   "file_extension": ".py",
   "mimetype": "text/x-python",
   "name": "python",
   "nbconvert_exporter": "python",
   "pygments_lexer": "ipython3",
   "version": "3.6.4"
  }
 },
 "nbformat": 4,
 "nbformat_minor": 2
}
