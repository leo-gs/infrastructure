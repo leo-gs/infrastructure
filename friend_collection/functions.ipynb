{
 "cells": [
  {
   "cell_type": "code",
   "execution_count": null,
   "metadata": {},
   "outputs": [],
   "source": [
    "import json\n",
    "import tweepy\n",
    "from tweepy.auth import OAuthHandler\n",
    "\n",
    "configuration = json.load(open(\"configuration.json\"))"
   ]
  },
  {
   "cell_type": "markdown",
   "metadata": {},
   "source": [
    "# Get an authenticated Twitter API object"
   ]
  },
  {
   "cell_type": "code",
   "execution_count": null,
   "metadata": {},
   "outputs": [],
   "source": [
    "def get_twitter_api_obj():\n",
    "\n",
    "    config_file = configuration[\"twitter_config_file\"]\n",
    "\n",
    "    ## Pulling twitter login credentials from \"config\" file\n",
    "    ## The file should have the consumer key, consumer secret, access token, and access token secret in that order,\n",
    "    ## separated by newlines.\n",
    "\n",
    "    config = open(config_file).read().split()\n",
    "    consumer_key = config[0]\n",
    "    consumer_secret = config[1]\n",
    "    access_token = config[2]\n",
    "    access_token_secret = config[3]\n",
    "\n",
    "    ## Authenticating\n",
    "    auth = OAuthHandler(consumer_key, consumer_secret)\n",
    "    auth.set_access_token(access_token, access_token_secret)\n",
    "\n",
    "    ## Returning the authenticated API object\n",
    "    api = tweepy.API(auth)\n",
    "\n",
    "    return api"
   ]
  }
 ],
 "metadata": {
  "kernelspec": {
   "display_name": "Python 3",
   "language": "python",
   "name": "python3"
  },
  "language_info": {
   "codemirror_mode": {
    "name": "ipython",
    "version": 3
   },
   "file_extension": ".py",
   "mimetype": "text/x-python",
   "name": "python",
   "nbconvert_exporter": "python",
   "pygments_lexer": "ipython3",
   "version": "3.6.4"
  }
 },
 "nbformat": 4,
 "nbformat_minor": 2
}
