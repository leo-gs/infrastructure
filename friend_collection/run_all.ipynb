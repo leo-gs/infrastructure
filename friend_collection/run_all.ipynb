{
 "cells": [
  {
   "cell_type": "code",
   "execution_count": 1,
   "metadata": {},
   "outputs": [],
   "source": [
    "import json\n",
    "\n",
    "import tweepy\n",
    "\n",
    "import collect_users\n",
    "import functions\n",
    "import pull_friends\n",
    "import pull_user_data\n",
    "\n",
    "configuration = json.load(open(\"configuration.json\"))"
   ]
  },
  {
   "cell_type": "markdown",
   "metadata": {},
   "source": [
    "# Process an individual user"
   ]
  },
  {
   "cell_type": "code",
   "execution_count": 2,
   "metadata": {},
   "outputs": [],
   "source": [
    "def process_users(user_ids, twitter_api, start_interval, end_interval):\n",
    "    user_data = pull_user_data.pull_user_data(twitter_api, user_ids)\n",
    "    friendships, error_ids = pull_friends.pull_friends(twitter_api, user_ids)\n",
    "    return (user_data, friendships, error_ids)"
   ]
  },
  {
   "cell_type": "markdown",
   "metadata": {},
   "source": [
    "# Get all the new user_ids from the JSON files"
   ]
  },
  {
   "cell_type": "code",
   "execution_count": 3,
   "metadata": {},
   "outputs": [
    {
     "name": "stdout",
     "output_type": "stream",
     "text": [
      "collecting user_ids\n"
     ]
    }
   ],
   "source": [
    "print(\"collecting user_ids\")\n",
    "user_ids, start_interval, end_interval = collect_users.run(configuration) ## Returns a set of user_ids, as long as the time window\n",
    "user_ids = list(user_ids)"
   ]
  },
  {
   "cell_type": "markdown",
   "metadata": {},
   "source": [
    "# Get an authenticated API object to start pulling data"
   ]
  },
  {
   "cell_type": "code",
   "execution_count": 4,
   "metadata": {},
   "outputs": [
    {
     "name": "stdout",
     "output_type": "stream",
     "text": [
      "getting a Twitter API object\n"
     ]
    }
   ],
   "source": [
    "print(\"getting a Twitter API object\")\n",
    "twitter_api = functions.get_twitter_api_obj()"
   ]
  },
  {
   "cell_type": "markdown",
   "metadata": {},
   "source": [
    "# Pull data for each user_id"
   ]
  },
  {
   "cell_type": "code",
   "execution_count": 2,
   "metadata": {},
   "outputs": [
    {
     "ename": "NameError",
     "evalue": "name 'user_ids' is not defined",
     "output_type": "error",
     "traceback": [
      "\u001b[0;31m---------------------------------------------------------------------------\u001b[0m",
      "\u001b[0;31mNameError\u001b[0m                                 Traceback (most recent call last)",
      "\u001b[0;32m<ipython-input-2-4c507a130417>\u001b[0m in \u001b[0;36m<module>\u001b[0;34m()\u001b[0m\n\u001b[1;32m      4\u001b[0m \u001b[0;34m\u001b[0m\u001b[0m\n\u001b[1;32m      5\u001b[0m \u001b[0mchunk\u001b[0m \u001b[0;34m=\u001b[0m \u001b[0;36m0\u001b[0m\u001b[0;34m\u001b[0m\u001b[0m\n\u001b[0;32m----> 6\u001b[0;31m \u001b[0;32mwhile\u001b[0m \u001b[0mchunk\u001b[0m \u001b[0;34m<\u001b[0m \u001b[0mlen\u001b[0m\u001b[0;34m(\u001b[0m\u001b[0muser_ids\u001b[0m\u001b[0;34m)\u001b[0m\u001b[0;34m:\u001b[0m\u001b[0;34m\u001b[0m\u001b[0m\n\u001b[0m\u001b[1;32m      7\u001b[0m     \u001b[0;31m## Process in groups of 100\u001b[0m\u001b[0;34m\u001b[0m\u001b[0;34m\u001b[0m\u001b[0m\n\u001b[1;32m      8\u001b[0m     \u001b[0muser_ids_to_process\u001b[0m \u001b[0;34m=\u001b[0m \u001b[0muser_ids\u001b[0m\u001b[0;34m[\u001b[0m\u001b[0mchunk\u001b[0m\u001b[0;34m:\u001b[0m\u001b[0mchunk\u001b[0m \u001b[0;34m+\u001b[0m \u001b[0;36m100\u001b[0m\u001b[0;34m]\u001b[0m\u001b[0;34m\u001b[0m\u001b[0m\n",
      "\u001b[0;31mNameError\u001b[0m: name 'user_ids' is not defined"
     ]
    }
   ],
   "source": [
    "users_data = []\n",
    "users_friendships = []\n",
    "errors = []\n",
    "\n",
    "chunk = 0\n",
    "while chunk < len(user_ids):\n",
    "    ## Process in groups of 100\n",
    "    user_ids_to_process = user_ids[chunk:chunk + 100]\n",
    "    \n",
    "    user_data, friendships, error_ids = process_users(user_ids_to_process, twitter_api, start_interval, end_interval)\n",
    "    users_data.extend(user_data)\n",
    "    users_friendships.extend(friendships)\n",
    "    errors.extend(error_ids)\n",
    "    \n",
    "    chunk = chunk + 100\n",
    "    print(chunk)\n",
    "    print(str(len(users_data)) + \" users collected\")\n",
    "    print(str(len(users_friendships)) + \" friendships collected\")\n",
    "    print(\"\")\n"
   ]
  },
  {
   "cell_type": "markdown",
   "metadata": {},
   "source": [
    "# Write to the database"
   ]
  },
  {
   "cell_type": "code",
   "execution_count": 56,
   "metadata": {},
   "outputs": [],
   "source": [
    "print(\"writing friendships to database\")\n",
    "pull_friends.write_friendships_to_database(configuration, users_friendships, start_interval, end_interval)\n",
    "print(\"writing errors to database\")\n",
    "pull_friends.write_errors_to_database(configuration, errors, start_interval, end_interval)\n",
    "print(\"writing user data to database\")\n",
    "pull_user_data.write_users_to_database(configuration, users_data, start_interval, end_interval)\n",
    "print(\"Done!\")"
   ]
  }
 ],
 "metadata": {
  "kernelspec": {
   "display_name": "Python 3",
   "language": "python",
   "name": "python3"
  },
  "language_info": {
   "codemirror_mode": {
    "name": "ipython",
    "version": 3
   },
   "file_extension": ".py",
   "mimetype": "text/x-python",
   "name": "python",
   "nbconvert_exporter": "python",
   "pygments_lexer": "ipython3",
   "version": "3.7.0"
  }
 },
 "nbformat": 4,
 "nbformat_minor": 2
}
