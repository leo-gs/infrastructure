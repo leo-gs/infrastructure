{
 "cells": [
  {
   "cell_type": "code",
   "execution_count": 1,
   "metadata": {},
   "outputs": [],
   "source": [
    "import json\n",
    "\n",
    "import tweepy\n",
    "\n",
    "import collect_users\n",
    "import functions\n",
    "import pull_friends\n",
    "import pull_user_data\n",
    "\n",
    "configuration = json.load(open(\"configuration.json\"))"
   ]
  },
  {
   "cell_type": "markdown",
   "metadata": {},
   "source": [
    "# Process an individual user"
   ]
  },
  {
   "cell_type": "code",
   "execution_count": 2,
   "metadata": {},
   "outputs": [],
   "source": [
    "def process_users(user_ids, twitter_api, start_interval, end_interval):\n",
    "    user_data = pull_user_data.pull_user_data(twitter_api, user_ids)\n",
    "    friendships, error_ids = pull_friends.pull_friends(twitter_api, user_ids)\n",
    "    return (user_data, friendships, error_ids)"
   ]
  },
  {
   "cell_type": "markdown",
   "metadata": {},
   "source": [
    "# Get all the new user_ids from the JSON files"
   ]
  },
  {
   "cell_type": "code",
   "execution_count": 11,
   "metadata": {},
   "outputs": [],
   "source": [
    "print(\"collecting user_ids\")\n",
    "user_ids, start_interval, end_interval = collect_users.run(configuration) ## Returns a set of user_ids, as long as the time window\n",
    "user_ids = list(user_ids)"
   ]
  },
  {
   "cell_type": "markdown",
   "metadata": {},
   "source": [
    "# Get an authenticated API object to start pulling data"
   ]
  },
  {
   "cell_type": "code",
   "execution_count": 12,
   "metadata": {},
   "outputs": [],
   "source": [
    "print(\"getting a Twitter API object\")\n",
    "twitter_api = functions.get_twitter_api_obj()"
   ]
  },
  {
   "cell_type": "markdown",
   "metadata": {},
   "source": [
    "# Pull data for each user_id"
   ]
  },
  {
   "cell_type": "code",
   "execution_count": 14,
   "metadata": {},
   "outputs": [
    {
     "name": "stdout",
     "output_type": "stream",
     "text": [
      "100\n",
      "90 users collected\n",
      "198706 friendships collected\n",
      "200\n",
      "177 users collected\n",
      "350227 friendships collected\n"
     ]
    }
   ],
   "source": [
    "users_data = []\n",
    "users_friendships = []\n",
    "errors = []\n",
    "\n",
    "chunk = 0\n",
    "while chunk < len(user_ids):\n",
    "    ## Process in groups of 100\n",
    "    user_ids_to_process = user_ids[chunk:chunk + 100]\n",
    "    \n",
    "    user_data, friendships, error_ids = process_users(user_ids_to_process, twitter_api, start_interval, end_interval)\n",
    "    users_data.extend(user_data)\n",
    "    users_friendships.extend(friendships)\n",
    "    errors.extend(error_ids)\n",
    "    \n",
    "    chunk = chunk + 100\n",
    "    print(chunk)\n",
    "    print(str(len(users_data)) + \" users collected\")\n",
    "    print(str(len(users_friendships)) + \" friendships collected\")\n",
    "    print(\"\")\n"
   ]
  },
  {
   "cell_type": "markdown",
   "metadata": {},
   "source": [
    "# Write to the database"
   ]
  },
  {
   "cell_type": "code",
   "execution_count": 56,
   "metadata": {},
   "outputs": [],
   "source": [
    "print(\"writing friendships to database\")\n",
    "pull_friends.write_friendships_to_database(configuration, users_friendships, start_interval, end_interval)\n",
    "print(\"writing errors to database\")\n",
    "pull_friends.write_errors_to_database(configuration, errors, start_interval, end_interval)\n",
    "print(\"writing user data to database\")\n",
    "pull_user_data.write_users_to_database(configuration, users_data, start_interval, end_interval)\n",
    "print(\"Done!\")"
   ]
  }
 ],
 "metadata": {
  "kernelspec": {
   "display_name": "Python 3",
   "language": "python",
   "name": "python3"
  },
  "language_info": {
   "codemirror_mode": {
    "name": "ipython",
    "version": 3
   },
   "file_extension": ".py",
   "mimetype": "text/x-python",
   "name": "python",
   "nbconvert_exporter": "python",
   "pygments_lexer": "ipython3",
   "version": "3.6.4"
  }
 },
 "nbformat": 4,
 "nbformat_minor": 2
}
